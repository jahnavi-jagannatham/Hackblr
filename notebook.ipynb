{
 "cells": [
  {
   "cell_type": "code",
   "execution_count": 153,
   "id": "8c570500-6d1a-4ed3-bc9c-176f47be3388",
   "metadata": {},
   "outputs": [
    {
     "data": {
      "text/html": [
       "<div>\n",
       "<style scoped>\n",
       "    .dataframe tbody tr th:only-of-type {\n",
       "        vertical-align: middle;\n",
       "    }\n",
       "\n",
       "    .dataframe tbody tr th {\n",
       "        vertical-align: top;\n",
       "    }\n",
       "\n",
       "    .dataframe thead th {\n",
       "        text-align: right;\n",
       "    }\n",
       "</style>\n",
       "<table border=\"1\" class=\"dataframe\">\n",
       "  <thead>\n",
       "    <tr style=\"text-align: right;\">\n",
       "      <th></th>\n",
       "      <th>description</th>\n",
       "      <th>domain1</th>\n",
       "      <th>domain2</th>\n",
       "    </tr>\n",
       "  </thead>\n",
       "  <tbody>\n",
       "    <tr>\n",
       "      <th>0</th>\n",
       "      <td>AI-powered virtual assistant for cybersecurity...</td>\n",
       "      <td>AI</td>\n",
       "      <td>Cybersecurity</td>\n",
       "    </tr>\n",
       "    <tr>\n",
       "      <th>1</th>\n",
       "      <td>Blockchain-based platform for tracking and ver...</td>\n",
       "      <td>Blockchain</td>\n",
       "      <td>Sustainability</td>\n",
       "    </tr>\n",
       "    <tr>\n",
       "      <th>2</th>\n",
       "      <td>E-commerce platform using AI to personalize pr...</td>\n",
       "      <td>AI</td>\n",
       "      <td>E-Commerce</td>\n",
       "    </tr>\n",
       "    <tr>\n",
       "      <th>3</th>\n",
       "      <td>Healthcare chatbot leveraging natural language...</td>\n",
       "      <td>Healthcare</td>\n",
       "      <td>AI</td>\n",
       "    </tr>\n",
       "    <tr>\n",
       "      <th>4</th>\n",
       "      <td>Cybersecurity firm specializing in AI-driven p...</td>\n",
       "      <td>Cybersecurity</td>\n",
       "      <td>AI</td>\n",
       "    </tr>\n",
       "    <tr>\n",
       "      <th>...</th>\n",
       "      <td>...</td>\n",
       "      <td>...</td>\n",
       "      <td>...</td>\n",
       "    </tr>\n",
       "    <tr>\n",
       "      <th>84</th>\n",
       "      <td>Blockchain-enabled platform for transparent an...</td>\n",
       "      <td>Blockchain</td>\n",
       "      <td>Sustainability</td>\n",
       "    </tr>\n",
       "    <tr>\n",
       "      <th>85</th>\n",
       "      <td>AI-powered meal planning and grocery shopping ...</td>\n",
       "      <td>AI</td>\n",
       "      <td>E-Commerce</td>\n",
       "    </tr>\n",
       "    <tr>\n",
       "      <th>86</th>\n",
       "      <td>Telemedicine platform using AI to provide remo...</td>\n",
       "      <td>AI</td>\n",
       "      <td>Healthcare</td>\n",
       "    </tr>\n",
       "    <tr>\n",
       "      <th>87</th>\n",
       "      <td>Cybersecurity startup offering AI-driven secur...</td>\n",
       "      <td>AI</td>\n",
       "      <td>Cybersecurity</td>\n",
       "    </tr>\n",
       "    <tr>\n",
       "      <th>88</th>\n",
       "      <td>Blockchain-based platform for transparent and ...</td>\n",
       "      <td>Blockchain</td>\n",
       "      <td>Sustainability</td>\n",
       "    </tr>\n",
       "  </tbody>\n",
       "</table>\n",
       "<p>89 rows × 3 columns</p>\n",
       "</div>"
      ],
      "text/plain": [
       "                                          description        domain1  \\\n",
       "0   AI-powered virtual assistant for cybersecurity...             AI   \n",
       "1   Blockchain-based platform for tracking and ver...     Blockchain   \n",
       "2   E-commerce platform using AI to personalize pr...             AI   \n",
       "3   Healthcare chatbot leveraging natural language...     Healthcare   \n",
       "4   Cybersecurity firm specializing in AI-driven p...  Cybersecurity   \n",
       "..                                                ...            ...   \n",
       "84  Blockchain-enabled platform for transparent an...     Blockchain   \n",
       "85  AI-powered meal planning and grocery shopping ...             AI   \n",
       "86  Telemedicine platform using AI to provide remo...             AI   \n",
       "87  Cybersecurity startup offering AI-driven secur...             AI   \n",
       "88  Blockchain-based platform for transparent and ...     Blockchain   \n",
       "\n",
       "           domain2  \n",
       "0    Cybersecurity  \n",
       "1   Sustainability  \n",
       "2       E-Commerce  \n",
       "3               AI  \n",
       "4               AI  \n",
       "..             ...  \n",
       "84  Sustainability  \n",
       "85      E-Commerce  \n",
       "86      Healthcare  \n",
       "87   Cybersecurity  \n",
       "88  Sustainability  \n",
       "\n",
       "[89 rows x 3 columns]"
      ]
     },
     "execution_count": 153,
     "metadata": {},
     "output_type": "execute_result"
    }
   ],
   "source": [
    "import pandas as pd\n",
    "df=pd.read_csv(\"data.csv\")\n",
    "df"
   ]
  },
  {
   "cell_type": "code",
   "execution_count": 154,
   "id": "f00f2a58-ff32-4944-b161-8b79949fb9b0",
   "metadata": {},
   "outputs": [],
   "source": [
    "from sklearn.preprocessing import LabelEncoder\n",
    "encoder = LabelEncoder()\n",
    "\n",
    "# Encode 'domain1' and 'domain2'\n",
    "df['domain1_n'] = encoder.fit_transform(df['domain1'])\n",
    "df['domain2_n'] = encoder.fit_transform(df['domain2'])\n"
   ]
  },
  {
   "cell_type": "code",
   "execution_count": 155,
   "id": "cd2c9fd6-e3f6-42c7-80a7-f906a454b4be",
   "metadata": {},
   "outputs": [
    {
     "data": {
      "text/html": [
       "<div>\n",
       "<style scoped>\n",
       "    .dataframe tbody tr th:only-of-type {\n",
       "        vertical-align: middle;\n",
       "    }\n",
       "\n",
       "    .dataframe tbody tr th {\n",
       "        vertical-align: top;\n",
       "    }\n",
       "\n",
       "    .dataframe thead th {\n",
       "        text-align: right;\n",
       "    }\n",
       "</style>\n",
       "<table border=\"1\" class=\"dataframe\">\n",
       "  <thead>\n",
       "    <tr style=\"text-align: right;\">\n",
       "      <th></th>\n",
       "      <th>description</th>\n",
       "      <th>domain1</th>\n",
       "      <th>domain2</th>\n",
       "      <th>domain1_n</th>\n",
       "      <th>domain2_n</th>\n",
       "    </tr>\n",
       "  </thead>\n",
       "  <tbody>\n",
       "    <tr>\n",
       "      <th>0</th>\n",
       "      <td>AI-powered virtual assistant for cybersecurity...</td>\n",
       "      <td>AI</td>\n",
       "      <td>Cybersecurity</td>\n",
       "      <td>0</td>\n",
       "      <td>2</td>\n",
       "    </tr>\n",
       "    <tr>\n",
       "      <th>1</th>\n",
       "      <td>Blockchain-based platform for tracking and ver...</td>\n",
       "      <td>Blockchain</td>\n",
       "      <td>Sustainability</td>\n",
       "      <td>1</td>\n",
       "      <td>5</td>\n",
       "    </tr>\n",
       "    <tr>\n",
       "      <th>2</th>\n",
       "      <td>E-commerce platform using AI to personalize pr...</td>\n",
       "      <td>AI</td>\n",
       "      <td>E-Commerce</td>\n",
       "      <td>0</td>\n",
       "      <td>3</td>\n",
       "    </tr>\n",
       "    <tr>\n",
       "      <th>3</th>\n",
       "      <td>Healthcare chatbot leveraging natural language...</td>\n",
       "      <td>Healthcare</td>\n",
       "      <td>AI</td>\n",
       "      <td>4</td>\n",
       "      <td>0</td>\n",
       "    </tr>\n",
       "    <tr>\n",
       "      <th>4</th>\n",
       "      <td>Cybersecurity firm specializing in AI-driven p...</td>\n",
       "      <td>Cybersecurity</td>\n",
       "      <td>AI</td>\n",
       "      <td>2</td>\n",
       "      <td>0</td>\n",
       "    </tr>\n",
       "    <tr>\n",
       "      <th>...</th>\n",
       "      <td>...</td>\n",
       "      <td>...</td>\n",
       "      <td>...</td>\n",
       "      <td>...</td>\n",
       "      <td>...</td>\n",
       "    </tr>\n",
       "    <tr>\n",
       "      <th>84</th>\n",
       "      <td>Blockchain-enabled platform for transparent an...</td>\n",
       "      <td>Blockchain</td>\n",
       "      <td>Sustainability</td>\n",
       "      <td>1</td>\n",
       "      <td>5</td>\n",
       "    </tr>\n",
       "    <tr>\n",
       "      <th>85</th>\n",
       "      <td>AI-powered meal planning and grocery shopping ...</td>\n",
       "      <td>AI</td>\n",
       "      <td>E-Commerce</td>\n",
       "      <td>0</td>\n",
       "      <td>3</td>\n",
       "    </tr>\n",
       "    <tr>\n",
       "      <th>86</th>\n",
       "      <td>Telemedicine platform using AI to provide remo...</td>\n",
       "      <td>AI</td>\n",
       "      <td>Healthcare</td>\n",
       "      <td>0</td>\n",
       "      <td>4</td>\n",
       "    </tr>\n",
       "    <tr>\n",
       "      <th>87</th>\n",
       "      <td>Cybersecurity startup offering AI-driven secur...</td>\n",
       "      <td>AI</td>\n",
       "      <td>Cybersecurity</td>\n",
       "      <td>0</td>\n",
       "      <td>2</td>\n",
       "    </tr>\n",
       "    <tr>\n",
       "      <th>88</th>\n",
       "      <td>Blockchain-based platform for transparent and ...</td>\n",
       "      <td>Blockchain</td>\n",
       "      <td>Sustainability</td>\n",
       "      <td>1</td>\n",
       "      <td>5</td>\n",
       "    </tr>\n",
       "  </tbody>\n",
       "</table>\n",
       "<p>89 rows × 5 columns</p>\n",
       "</div>"
      ],
      "text/plain": [
       "                                          description        domain1  \\\n",
       "0   AI-powered virtual assistant for cybersecurity...             AI   \n",
       "1   Blockchain-based platform for tracking and ver...     Blockchain   \n",
       "2   E-commerce platform using AI to personalize pr...             AI   \n",
       "3   Healthcare chatbot leveraging natural language...     Healthcare   \n",
       "4   Cybersecurity firm specializing in AI-driven p...  Cybersecurity   \n",
       "..                                                ...            ...   \n",
       "84  Blockchain-enabled platform for transparent an...     Blockchain   \n",
       "85  AI-powered meal planning and grocery shopping ...             AI   \n",
       "86  Telemedicine platform using AI to provide remo...             AI   \n",
       "87  Cybersecurity startup offering AI-driven secur...             AI   \n",
       "88  Blockchain-based platform for transparent and ...     Blockchain   \n",
       "\n",
       "           domain2  domain1_n  domain2_n  \n",
       "0    Cybersecurity          0          2  \n",
       "1   Sustainability          1          5  \n",
       "2       E-Commerce          0          3  \n",
       "3               AI          4          0  \n",
       "4               AI          2          0  \n",
       "..             ...        ...        ...  \n",
       "84  Sustainability          1          5  \n",
       "85      E-Commerce          0          3  \n",
       "86      Healthcare          0          4  \n",
       "87   Cybersecurity          0          2  \n",
       "88  Sustainability          1          5  \n",
       "\n",
       "[89 rows x 5 columns]"
      ]
     },
     "execution_count": 155,
     "metadata": {},
     "output_type": "execute_result"
    }
   ],
   "source": [
    "df"
   ]
  },
  {
   "cell_type": "code",
   "execution_count": 156,
   "id": "53c27cb9-55bf-4541-a73d-3abc5173b570",
   "metadata": {},
   "outputs": [
    {
     "data": {
      "text/plain": [
       "array(['AI', 'Blockchain', 'Healthcare', 'Cybersecurity',\n",
       "       'Sustainability', 'E-Commerce'], dtype=object)"
      ]
     },
     "execution_count": 156,
     "metadata": {},
     "output_type": "execute_result"
    }
   ],
   "source": [
    "df['domain1'].unique()"
   ]
  },
  {
   "cell_type": "code",
   "execution_count": 157,
   "id": "a3ff3c44-ddfb-4b2a-9e2b-67ebdbe2c2d3",
   "metadata": {},
   "outputs": [
    {
     "data": {
      "text/plain": [
       "array(['Cybersecurity', 'Sustainability', 'E-Commerce', 'AI',\n",
       "       'Blockchain', 'Healthcare'], dtype=object)"
      ]
     },
     "execution_count": 157,
     "metadata": {},
     "output_type": "execute_result"
    }
   ],
   "source": [
    "df['domain2'].unique()"
   ]
  },
  {
   "cell_type": "code",
   "execution_count": 158,
   "id": "63cc8ae2-4152-4646-be82-1479708a2f15",
   "metadata": {},
   "outputs": [],
   "source": [
    "df.drop(['domain1', 'domain2'], axis=1, inplace=True)\n"
   ]
  },
  {
   "cell_type": "code",
   "execution_count": 159,
   "id": "20d3de0a-7b98-46ae-b5cb-192afe7ec5c3",
   "metadata": {},
   "outputs": [
    {
     "data": {
      "text/html": [
       "<div>\n",
       "<style scoped>\n",
       "    .dataframe tbody tr th:only-of-type {\n",
       "        vertical-align: middle;\n",
       "    }\n",
       "\n",
       "    .dataframe tbody tr th {\n",
       "        vertical-align: top;\n",
       "    }\n",
       "\n",
       "    .dataframe thead th {\n",
       "        text-align: right;\n",
       "    }\n",
       "</style>\n",
       "<table border=\"1\" class=\"dataframe\">\n",
       "  <thead>\n",
       "    <tr style=\"text-align: right;\">\n",
       "      <th></th>\n",
       "      <th>description</th>\n",
       "      <th>domain1_n</th>\n",
       "      <th>domain2_n</th>\n",
       "    </tr>\n",
       "  </thead>\n",
       "  <tbody>\n",
       "    <tr>\n",
       "      <th>0</th>\n",
       "      <td>AI-powered virtual assistant for cybersecurity...</td>\n",
       "      <td>0</td>\n",
       "      <td>2</td>\n",
       "    </tr>\n",
       "    <tr>\n",
       "      <th>1</th>\n",
       "      <td>Blockchain-based platform for tracking and ver...</td>\n",
       "      <td>1</td>\n",
       "      <td>5</td>\n",
       "    </tr>\n",
       "    <tr>\n",
       "      <th>2</th>\n",
       "      <td>E-commerce platform using AI to personalize pr...</td>\n",
       "      <td>0</td>\n",
       "      <td>3</td>\n",
       "    </tr>\n",
       "    <tr>\n",
       "      <th>3</th>\n",
       "      <td>Healthcare chatbot leveraging natural language...</td>\n",
       "      <td>4</td>\n",
       "      <td>0</td>\n",
       "    </tr>\n",
       "    <tr>\n",
       "      <th>4</th>\n",
       "      <td>Cybersecurity firm specializing in AI-driven p...</td>\n",
       "      <td>2</td>\n",
       "      <td>0</td>\n",
       "    </tr>\n",
       "    <tr>\n",
       "      <th>...</th>\n",
       "      <td>...</td>\n",
       "      <td>...</td>\n",
       "      <td>...</td>\n",
       "    </tr>\n",
       "    <tr>\n",
       "      <th>84</th>\n",
       "      <td>Blockchain-enabled platform for transparent an...</td>\n",
       "      <td>1</td>\n",
       "      <td>5</td>\n",
       "    </tr>\n",
       "    <tr>\n",
       "      <th>85</th>\n",
       "      <td>AI-powered meal planning and grocery shopping ...</td>\n",
       "      <td>0</td>\n",
       "      <td>3</td>\n",
       "    </tr>\n",
       "    <tr>\n",
       "      <th>86</th>\n",
       "      <td>Telemedicine platform using AI to provide remo...</td>\n",
       "      <td>0</td>\n",
       "      <td>4</td>\n",
       "    </tr>\n",
       "    <tr>\n",
       "      <th>87</th>\n",
       "      <td>Cybersecurity startup offering AI-driven secur...</td>\n",
       "      <td>0</td>\n",
       "      <td>2</td>\n",
       "    </tr>\n",
       "    <tr>\n",
       "      <th>88</th>\n",
       "      <td>Blockchain-based platform for transparent and ...</td>\n",
       "      <td>1</td>\n",
       "      <td>5</td>\n",
       "    </tr>\n",
       "  </tbody>\n",
       "</table>\n",
       "<p>89 rows × 3 columns</p>\n",
       "</div>"
      ],
      "text/plain": [
       "                                          description  domain1_n  domain2_n\n",
       "0   AI-powered virtual assistant for cybersecurity...          0          2\n",
       "1   Blockchain-based platform for tracking and ver...          1          5\n",
       "2   E-commerce platform using AI to personalize pr...          0          3\n",
       "3   Healthcare chatbot leveraging natural language...          4          0\n",
       "4   Cybersecurity firm specializing in AI-driven p...          2          0\n",
       "..                                                ...        ...        ...\n",
       "84  Blockchain-enabled platform for transparent an...          1          5\n",
       "85  AI-powered meal planning and grocery shopping ...          0          3\n",
       "86  Telemedicine platform using AI to provide remo...          0          4\n",
       "87  Cybersecurity startup offering AI-driven secur...          0          2\n",
       "88  Blockchain-based platform for transparent and ...          1          5\n",
       "\n",
       "[89 rows x 3 columns]"
      ]
     },
     "execution_count": 159,
     "metadata": {},
     "output_type": "execute_result"
    }
   ],
   "source": [
    "df"
   ]
  },
  {
   "cell_type": "code",
   "execution_count": 160,
   "id": "998d8108-19e2-4eb8-872c-17002588ec6a",
   "metadata": {},
   "outputs": [
    {
     "data": {
      "text/html": [
       "<div>\n",
       "<style scoped>\n",
       "    .dataframe tbody tr th:only-of-type {\n",
       "        vertical-align: middle;\n",
       "    }\n",
       "\n",
       "    .dataframe tbody tr th {\n",
       "        vertical-align: top;\n",
       "    }\n",
       "\n",
       "    .dataframe thead th {\n",
       "        text-align: right;\n",
       "    }\n",
       "</style>\n",
       "<table border=\"1\" class=\"dataframe\">\n",
       "  <thead>\n",
       "    <tr style=\"text-align: right;\">\n",
       "      <th></th>\n",
       "      <th>description</th>\n",
       "      <th>domain1_n</th>\n",
       "      <th>domain2_n</th>\n",
       "    </tr>\n",
       "  </thead>\n",
       "  <tbody>\n",
       "    <tr>\n",
       "      <th>0</th>\n",
       "      <td>AI-powered virtual assistant for cybersecurity...</td>\n",
       "      <td>0</td>\n",
       "      <td>2</td>\n",
       "    </tr>\n",
       "    <tr>\n",
       "      <th>1</th>\n",
       "      <td>Blockchain-based platform for tracking and ver...</td>\n",
       "      <td>1</td>\n",
       "      <td>5</td>\n",
       "    </tr>\n",
       "    <tr>\n",
       "      <th>2</th>\n",
       "      <td>E-commerce platform using AI to personalize pr...</td>\n",
       "      <td>0</td>\n",
       "      <td>3</td>\n",
       "    </tr>\n",
       "    <tr>\n",
       "      <th>3</th>\n",
       "      <td>Healthcare chatbot leveraging natural language...</td>\n",
       "      <td>4</td>\n",
       "      <td>0</td>\n",
       "    </tr>\n",
       "    <tr>\n",
       "      <th>4</th>\n",
       "      <td>Cybersecurity firm specializing in AI-driven p...</td>\n",
       "      <td>2</td>\n",
       "      <td>0</td>\n",
       "    </tr>\n",
       "    <tr>\n",
       "      <th>...</th>\n",
       "      <td>...</td>\n",
       "      <td>...</td>\n",
       "      <td>...</td>\n",
       "    </tr>\n",
       "    <tr>\n",
       "      <th>84</th>\n",
       "      <td>Blockchain-enabled platform for transparent an...</td>\n",
       "      <td>1</td>\n",
       "      <td>5</td>\n",
       "    </tr>\n",
       "    <tr>\n",
       "      <th>85</th>\n",
       "      <td>AI-powered meal planning and grocery shopping ...</td>\n",
       "      <td>0</td>\n",
       "      <td>3</td>\n",
       "    </tr>\n",
       "    <tr>\n",
       "      <th>86</th>\n",
       "      <td>Telemedicine platform using AI to provide remo...</td>\n",
       "      <td>0</td>\n",
       "      <td>4</td>\n",
       "    </tr>\n",
       "    <tr>\n",
       "      <th>87</th>\n",
       "      <td>Cybersecurity startup offering AI-driven secur...</td>\n",
       "      <td>0</td>\n",
       "      <td>2</td>\n",
       "    </tr>\n",
       "    <tr>\n",
       "      <th>88</th>\n",
       "      <td>Blockchain-based platform for transparent and ...</td>\n",
       "      <td>1</td>\n",
       "      <td>5</td>\n",
       "    </tr>\n",
       "  </tbody>\n",
       "</table>\n",
       "<p>89 rows × 3 columns</p>\n",
       "</div>"
      ],
      "text/plain": [
       "                                          description  domain1_n  domain2_n\n",
       "0   AI-powered virtual assistant for cybersecurity...          0          2\n",
       "1   Blockchain-based platform for tracking and ver...          1          5\n",
       "2   E-commerce platform using AI to personalize pr...          0          3\n",
       "3   Healthcare chatbot leveraging natural language...          4          0\n",
       "4   Cybersecurity firm specializing in AI-driven p...          2          0\n",
       "..                                                ...        ...        ...\n",
       "84  Blockchain-enabled platform for transparent an...          1          5\n",
       "85  AI-powered meal planning and grocery shopping ...          0          3\n",
       "86  Telemedicine platform using AI to provide remo...          0          4\n",
       "87  Cybersecurity startup offering AI-driven secur...          0          2\n",
       "88  Blockchain-based platform for transparent and ...          1          5\n",
       "\n",
       "[89 rows x 3 columns]"
      ]
     },
     "execution_count": 160,
     "metadata": {},
     "output_type": "execute_result"
    }
   ],
   "source": [
    "df"
   ]
  },
  {
   "cell_type": "code",
   "execution_count": 162,
   "id": "d18d5a05-d2b4-479f-8991-8225fdbce217",
   "metadata": {},
   "outputs": [
    {
     "data": {
      "text/plain": [
       "['tfidf_vectorizer.joblib']"
      ]
     },
     "execution_count": 162,
     "metadata": {},
     "output_type": "execute_result"
    }
   ],
   "source": [
    "from sklearn.feature_extraction.text import TfidfVectorizer\n",
    "from sklearn.metrics import accuracy_score\n",
    "from sklearn.model_selection import train_test_split\n",
    "from sklearn.linear_model import LogisticRegression\n",
    "from joblib import dump\n",
    "\n",
    "vectorizer = TfidfVectorizer()\n",
    "\n",
    "# Fit and transform the text data\n",
    "X = df['description']\n",
    "X = vectorizer.fit_transform(X)\n",
    "y_domain1 = df['domain1_n']\n",
    "y_domain2 = df['domain2_n']\n",
    "\n",
    "X_train, X_test, y_train_domain1, y_test_domain1 = train_test_split(X, y_domain1, test_size=0.2, random_state=42)\n",
    "X_train, X_test, y_train_domain2, y_test_domain2 = train_test_split(X, y_domain2, test_size=0.2, random_state=42)\n",
    "\n",
    "dump(vectorizer, 'tfidf_vectorizer.joblib')"
   ]
  },
  {
   "cell_type": "code",
   "execution_count": 163,
   "id": "10687fdb-d2ab-43cd-bd66-f7750cfdfcfa",
   "metadata": {},
   "outputs": [],
   "source": [
    "from sklearn.ensemble import RandomForestClassifier\n",
    "rfc1=RandomForestClassifier(n_estimators=200)\n",
    "rfc1.fit(X_train, y_train_domain1)\n",
    "\n",
    "rfc2=RandomForestClassifier(n_estimators=200)\n",
    "rfc2.fit(X_train, y_train_domain2)\n",
    "# Predictions\n",
    "y_pred_domain1 = rfc1.predict(X_test)\n",
    "y_pred_domain2 = rfc2.predict(X_test)"
   ]
  },
  {
   "cell_type": "code",
   "execution_count": 164,
   "id": "dbd77861-ab26-41f3-9a5c-5426ab4f24a5",
   "metadata": {},
   "outputs": [
    {
     "name": "stdout",
     "output_type": "stream",
     "text": [
      "Combined Accuracy: 1.0\n"
     ]
    }
   ],
   "source": [
    "# Calculate hits for domain1 and domain2 predictions\n",
    "hit_domain1 = (y_pred_domain1 == y_test_domain1)\n",
    "hit_domain2 = (y_pred_domain1 == y_test_domain2)\n",
    "hit_domain3 = (y_pred_domain2 == y_test_domain1)\n",
    "hit_domain4 = (y_pred_domain2 == y_test_domain2)\n",
    "\n",
    "# Combine the hits\n",
    "combined_hits = hit_domain1 | hit_domain2 | hit_domain3 | hit_domain4\n",
    "\n",
    "# Calculate accuracy\n",
    "accuracy = sum(combined_hits) / len(combined_hits)\n",
    "\n",
    "print(\"Combined Accuracy:\", accuracy)\n"
   ]
  },
  {
   "cell_type": "code",
   "execution_count": 165,
   "id": "8df506d1-e81b-4592-af14-c65729fe29e9",
   "metadata": {},
   "outputs": [],
   "source": [
    "trial=\"AI-powered virtual assistant for cybersecurity\""
   ]
  },
  {
   "cell_type": "code",
   "execution_count": 166,
   "id": "4715b2cf-d351-4626-b706-98bfb5b03d57",
   "metadata": {},
   "outputs": [
    {
     "name": "stdout",
     "output_type": "stream",
     "text": [
      "Predicted label for Domain 1: [0]\n"
     ]
    }
   ],
   "source": [
    "trial_transformed = vectorizer.transform([trial])\n",
    "\n",
    "# Predict labels for the trial data\n",
    "prediction_domain1 = rfc1.predict(trial_transformed)\n",
    "print(\"Predicted label for Domain 1:\", prediction_domain1)"
   ]
  },
  {
   "cell_type": "code",
   "execution_count": 167,
   "id": "35a2a157-ec79-4677-b1c0-4a5e79483510",
   "metadata": {},
   "outputs": [
    {
     "name": "stdout",
     "output_type": "stream",
     "text": [
      "Predicted label for Domain 1: [0]\n"
     ]
    }
   ],
   "source": [
    "prediction_domain1 = rfc2.predict(trial_transformed)\n",
    "print(\"Predicted label for Domain 1:\", prediction_domain1)"
   ]
  },
  {
   "cell_type": "code",
   "execution_count": 168,
   "id": "76454fbc-7557-4ca9-bb82-0384c3218099",
   "metadata": {},
   "outputs": [
    {
     "data": {
      "text/plain": [
       "['domain2_model.joblib']"
      ]
     },
     "execution_count": 168,
     "metadata": {},
     "output_type": "execute_result"
    }
   ],
   "source": [
    "from joblib import dump\n",
    "\n",
    "# Save domain1 model\n",
    "dump(pipeline_domain1, 'domain1_model.joblib')\n",
    "\n",
    "# Save domain2 model\n",
    "dump(pipeline_domain2, 'domain2_model.joblib')\n"
   ]
  },
  {
   "cell_type": "code",
   "execution_count": 169,
   "id": "9ffbb82f-028c-4938-aae7-0a683a7db39d",
   "metadata": {},
   "outputs": [],
   "source": [
    "idea=\"AI-powered virtual assistant for cybersecurity analysts to automate threat detection and response\""
   ]
  },
  {
   "cell_type": "code",
   "execution_count": 170,
   "id": "65d30290-fa62-4954-a3b9-21f65ad149f4",
   "metadata": {},
   "outputs": [
    {
     "ename": "AttributeError",
     "evalue": "'csr_matrix' object has no attribute 'lower'",
     "output_type": "error",
     "traceback": [
      "\u001b[1;31m---------------------------------------------------------------------------\u001b[0m",
      "\u001b[1;31mAttributeError\u001b[0m                            Traceback (most recent call last)",
      "Cell \u001b[1;32mIn[170], line 4\u001b[0m\n\u001b[0;32m      2\u001b[0m domain1_model \u001b[38;5;241m=\u001b[39m load(\u001b[38;5;124m'\u001b[39m\u001b[38;5;124mdomain1_model.joblib\u001b[39m\u001b[38;5;124m'\u001b[39m)\n\u001b[0;32m      3\u001b[0m tfidf_domain1 \u001b[38;5;241m=\u001b[39m vectorizer\u001b[38;5;241m.\u001b[39mtransform([idea])\n\u001b[1;32m----> 4\u001b[0m domain1_prediction \u001b[38;5;241m=\u001b[39m \u001b[43mdomain1_model\u001b[49m\u001b[38;5;241;43m.\u001b[39;49m\u001b[43mpredict\u001b[49m\u001b[43m(\u001b[49m\u001b[43mtfidf_domain1\u001b[49m\u001b[43m)\u001b[49m\n",
      "File \u001b[1;32m~\\AppData\\Local\\Programs\\Python\\Python312\\Lib\\site-packages\\sklearn\\pipeline.py:602\u001b[0m, in \u001b[0;36mPipeline.predict\u001b[1;34m(self, X, **params)\u001b[0m\n\u001b[0;32m    600\u001b[0m \u001b[38;5;28;01mif\u001b[39;00m \u001b[38;5;129;01mnot\u001b[39;00m _routing_enabled():\n\u001b[0;32m    601\u001b[0m     \u001b[38;5;28;01mfor\u001b[39;00m _, name, transform \u001b[38;5;129;01min\u001b[39;00m \u001b[38;5;28mself\u001b[39m\u001b[38;5;241m.\u001b[39m_iter(with_final\u001b[38;5;241m=\u001b[39m\u001b[38;5;28;01mFalse\u001b[39;00m):\n\u001b[1;32m--> 602\u001b[0m         Xt \u001b[38;5;241m=\u001b[39m \u001b[43mtransform\u001b[49m\u001b[38;5;241;43m.\u001b[39;49m\u001b[43mtransform\u001b[49m\u001b[43m(\u001b[49m\u001b[43mXt\u001b[49m\u001b[43m)\u001b[49m\n\u001b[0;32m    603\u001b[0m     \u001b[38;5;28;01mreturn\u001b[39;00m \u001b[38;5;28mself\u001b[39m\u001b[38;5;241m.\u001b[39msteps[\u001b[38;5;241m-\u001b[39m\u001b[38;5;241m1\u001b[39m][\u001b[38;5;241m1\u001b[39m]\u001b[38;5;241m.\u001b[39mpredict(Xt, \u001b[38;5;241m*\u001b[39m\u001b[38;5;241m*\u001b[39mparams)\n\u001b[0;32m    605\u001b[0m \u001b[38;5;66;03m# metadata routing enabled\u001b[39;00m\n",
      "File \u001b[1;32m~\\AppData\\Local\\Programs\\Python\\Python312\\Lib\\site-packages\\sklearn\\feature_extraction\\text.py:2162\u001b[0m, in \u001b[0;36mTfidfVectorizer.transform\u001b[1;34m(self, raw_documents)\u001b[0m\n\u001b[0;32m   2145\u001b[0m \u001b[38;5;250m\u001b[39m\u001b[38;5;124;03m\"\"\"Transform documents to document-term matrix.\u001b[39;00m\n\u001b[0;32m   2146\u001b[0m \n\u001b[0;32m   2147\u001b[0m \u001b[38;5;124;03mUses the vocabulary and document frequencies (df) learned by fit (or\u001b[39;00m\n\u001b[1;32m   (...)\u001b[0m\n\u001b[0;32m   2158\u001b[0m \u001b[38;5;124;03m    Tf-idf-weighted document-term matrix.\u001b[39;00m\n\u001b[0;32m   2159\u001b[0m \u001b[38;5;124;03m\"\"\"\u001b[39;00m\n\u001b[0;32m   2160\u001b[0m check_is_fitted(\u001b[38;5;28mself\u001b[39m, msg\u001b[38;5;241m=\u001b[39m\u001b[38;5;124m\"\u001b[39m\u001b[38;5;124mThe TF-IDF vectorizer is not fitted\u001b[39m\u001b[38;5;124m\"\u001b[39m)\n\u001b[1;32m-> 2162\u001b[0m X \u001b[38;5;241m=\u001b[39m \u001b[38;5;28;43msuper\u001b[39;49m\u001b[43m(\u001b[49m\u001b[43m)\u001b[49m\u001b[38;5;241;43m.\u001b[39;49m\u001b[43mtransform\u001b[49m\u001b[43m(\u001b[49m\u001b[43mraw_documents\u001b[49m\u001b[43m)\u001b[49m\n\u001b[0;32m   2163\u001b[0m \u001b[38;5;28;01mreturn\u001b[39;00m \u001b[38;5;28mself\u001b[39m\u001b[38;5;241m.\u001b[39m_tfidf\u001b[38;5;241m.\u001b[39mtransform(X, copy\u001b[38;5;241m=\u001b[39m\u001b[38;5;28;01mFalse\u001b[39;00m)\n",
      "File \u001b[1;32m~\\AppData\\Local\\Programs\\Python\\Python312\\Lib\\site-packages\\sklearn\\feature_extraction\\text.py:1434\u001b[0m, in \u001b[0;36mCountVectorizer.transform\u001b[1;34m(self, raw_documents)\u001b[0m\n\u001b[0;32m   1431\u001b[0m \u001b[38;5;28mself\u001b[39m\u001b[38;5;241m.\u001b[39m_check_vocabulary()\n\u001b[0;32m   1433\u001b[0m \u001b[38;5;66;03m# use the same matrix-building strategy as fit_transform\u001b[39;00m\n\u001b[1;32m-> 1434\u001b[0m _, X \u001b[38;5;241m=\u001b[39m \u001b[38;5;28;43mself\u001b[39;49m\u001b[38;5;241;43m.\u001b[39;49m\u001b[43m_count_vocab\u001b[49m\u001b[43m(\u001b[49m\u001b[43mraw_documents\u001b[49m\u001b[43m,\u001b[49m\u001b[43m \u001b[49m\u001b[43mfixed_vocab\u001b[49m\u001b[38;5;241;43m=\u001b[39;49m\u001b[38;5;28;43;01mTrue\u001b[39;49;00m\u001b[43m)\u001b[49m\n\u001b[0;32m   1435\u001b[0m \u001b[38;5;28;01mif\u001b[39;00m \u001b[38;5;28mself\u001b[39m\u001b[38;5;241m.\u001b[39mbinary:\n\u001b[0;32m   1436\u001b[0m     X\u001b[38;5;241m.\u001b[39mdata\u001b[38;5;241m.\u001b[39mfill(\u001b[38;5;241m1\u001b[39m)\n",
      "File \u001b[1;32m~\\AppData\\Local\\Programs\\Python\\Python312\\Lib\\site-packages\\sklearn\\feature_extraction\\text.py:1276\u001b[0m, in \u001b[0;36mCountVectorizer._count_vocab\u001b[1;34m(self, raw_documents, fixed_vocab)\u001b[0m\n\u001b[0;32m   1274\u001b[0m \u001b[38;5;28;01mfor\u001b[39;00m doc \u001b[38;5;129;01min\u001b[39;00m raw_documents:\n\u001b[0;32m   1275\u001b[0m     feature_counter \u001b[38;5;241m=\u001b[39m {}\n\u001b[1;32m-> 1276\u001b[0m     \u001b[38;5;28;01mfor\u001b[39;00m feature \u001b[38;5;129;01min\u001b[39;00m \u001b[43manalyze\u001b[49m\u001b[43m(\u001b[49m\u001b[43mdoc\u001b[49m\u001b[43m)\u001b[49m:\n\u001b[0;32m   1277\u001b[0m         \u001b[38;5;28;01mtry\u001b[39;00m:\n\u001b[0;32m   1278\u001b[0m             feature_idx \u001b[38;5;241m=\u001b[39m vocabulary[feature]\n",
      "File \u001b[1;32m~\\AppData\\Local\\Programs\\Python\\Python312\\Lib\\site-packages\\sklearn\\feature_extraction\\text.py:110\u001b[0m, in \u001b[0;36m_analyze\u001b[1;34m(doc, analyzer, tokenizer, ngrams, preprocessor, decoder, stop_words)\u001b[0m\n\u001b[0;32m    108\u001b[0m \u001b[38;5;28;01melse\u001b[39;00m:\n\u001b[0;32m    109\u001b[0m     \u001b[38;5;28;01mif\u001b[39;00m preprocessor \u001b[38;5;129;01mis\u001b[39;00m \u001b[38;5;129;01mnot\u001b[39;00m \u001b[38;5;28;01mNone\u001b[39;00m:\n\u001b[1;32m--> 110\u001b[0m         doc \u001b[38;5;241m=\u001b[39m \u001b[43mpreprocessor\u001b[49m\u001b[43m(\u001b[49m\u001b[43mdoc\u001b[49m\u001b[43m)\u001b[49m\n\u001b[0;32m    111\u001b[0m     \u001b[38;5;28;01mif\u001b[39;00m tokenizer \u001b[38;5;129;01mis\u001b[39;00m \u001b[38;5;129;01mnot\u001b[39;00m \u001b[38;5;28;01mNone\u001b[39;00m:\n\u001b[0;32m    112\u001b[0m         doc \u001b[38;5;241m=\u001b[39m tokenizer(doc)\n",
      "File \u001b[1;32m~\\AppData\\Local\\Programs\\Python\\Python312\\Lib\\site-packages\\sklearn\\feature_extraction\\text.py:68\u001b[0m, in \u001b[0;36m_preprocess\u001b[1;34m(doc, accent_function, lower)\u001b[0m\n\u001b[0;32m     49\u001b[0m \u001b[38;5;250m\u001b[39m\u001b[38;5;124;03m\"\"\"Chain together an optional series of text preprocessing steps to\u001b[39;00m\n\u001b[0;32m     50\u001b[0m \u001b[38;5;124;03mapply to a document.\u001b[39;00m\n\u001b[0;32m     51\u001b[0m \n\u001b[1;32m   (...)\u001b[0m\n\u001b[0;32m     65\u001b[0m \u001b[38;5;124;03m    preprocessed string\u001b[39;00m\n\u001b[0;32m     66\u001b[0m \u001b[38;5;124;03m\"\"\"\u001b[39;00m\n\u001b[0;32m     67\u001b[0m \u001b[38;5;28;01mif\u001b[39;00m lower:\n\u001b[1;32m---> 68\u001b[0m     doc \u001b[38;5;241m=\u001b[39m \u001b[43mdoc\u001b[49m\u001b[38;5;241;43m.\u001b[39;49m\u001b[43mlower\u001b[49m()\n\u001b[0;32m     69\u001b[0m \u001b[38;5;28;01mif\u001b[39;00m accent_function \u001b[38;5;129;01mis\u001b[39;00m \u001b[38;5;129;01mnot\u001b[39;00m \u001b[38;5;28;01mNone\u001b[39;00m:\n\u001b[0;32m     70\u001b[0m     doc \u001b[38;5;241m=\u001b[39m accent_function(doc)\n",
      "\u001b[1;31mAttributeError\u001b[0m: 'csr_matrix' object has no attribute 'lower'"
     ]
    }
   ],
   "source": [
    "vectorizer = load('tfidf_vectorizer.joblib')\n",
    "domain1_model = load('domain1_model.joblib')\n",
    "tfidf_domain1 = vectorizer.transform([idea])\n",
    "domain1_prediction = domain1_model.predict(tfidf_domain1)"
   ]
  },
  {
   "cell_type": "code",
   "execution_count": null,
   "id": "25a75064-4d55-4ca5-831e-bc2fc4732cf8",
   "metadata": {},
   "outputs": [],
   "source": []
  }
 ],
 "metadata": {
  "kernelspec": {
   "display_name": "Python 3 (ipykernel)",
   "language": "python",
   "name": "python3"
  },
  "language_info": {
   "codemirror_mode": {
    "name": "ipython",
    "version": 3
   },
   "file_extension": ".py",
   "mimetype": "text/x-python",
   "name": "python",
   "nbconvert_exporter": "python",
   "pygments_lexer": "ipython3",
   "version": "3.12.1"
  }
 },
 "nbformat": 4,
 "nbformat_minor": 5
}
